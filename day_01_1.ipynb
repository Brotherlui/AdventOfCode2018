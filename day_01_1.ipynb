{
 "cells": [
  {
   "cell_type": "code",
   "execution_count": 1,
   "metadata": {},
   "outputs": [
    {
     "name": "stdout",
     "output_type": "stream",
     "text": [
      "SUM: 538\n",
      "FOUND:77271\n"
     ]
    }
   ],
   "source": [
    "import pandas as pd\n",
    "\n",
    "df = pd.read_table('day_01_input.txt', dtype='int', names=['numbers'])\n",
    "\n",
    "# first part\n",
    "print(f'SUM: {df.numbers.sum()}')\n",
    "\n",
    "# second part\n",
    "values = df.numbers.tolist()\n",
    "doubles = set()\n",
    "frequency = 0\n",
    "found = False\n",
    "while not found:\n",
    "    for value in values:\n",
    "        frequency += value\n",
    "        if frequency in doubles:\n",
    "            found = True\n",
    "            break\n",
    "        else:\n",
    "            doubles.add(frequency)\n",
    "print(f'FOUND:{frequency}')"
   ]
  },
  {
   "cell_type": "code",
   "execution_count": null,
   "metadata": {},
   "outputs": [],
   "source": []
  }
 ],
 "metadata": {
  "kernelspec": {
   "display_name": "Python 3",
   "language": "python",
   "name": "python3"
  },
  "language_info": {
   "codemirror_mode": {
    "name": "ipython",
    "version": 3
   },
   "file_extension": ".py",
   "mimetype": "text/x-python",
   "name": "python",
   "nbconvert_exporter": "python",
   "pygments_lexer": "ipython3",
   "version": "3.6.7"
  }
 },
 "nbformat": 4,
 "nbformat_minor": 2
}
