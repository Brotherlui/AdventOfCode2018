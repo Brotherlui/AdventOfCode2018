{
 "cells": [
  {
   "cell_type": "code",
   "execution_count": 1,
   "metadata": {},
   "outputs": [
    {
     "name": "stdout",
     "output_type": "stream",
     "text": [
      "117948\n"
     ]
    }
   ],
   "source": [
    "# ----- Part 1 -----\n",
    "\n",
    "claims = []\n",
    "with open('day_03_input.txt', 'r') as inputfile:\n",
    "    for line in inputfile:\n",
    "        origin, size = line.split()[2:]\n",
    "        \n",
    "        start_x, start_y = origin[:-1].split(',')\n",
    "        origin = tuple([int(start_x), int(start_y)])\n",
    "        \n",
    "        width, height = size.split('x')\n",
    "        size = tuple([int(width), int(height)])\n",
    "        \n",
    "        claims.append(tuple([origin, size]))\n",
    "\n",
    "squares = []\n",
    "for origin, size in claims:\n",
    "    start_x, start_y = origin\n",
    "    width, height = size\n",
    "    square_inches = set([(start_x + x, start_y + y) for x in range(width) for y in range(height)])\n",
    "    squares.append(square_inches)\n",
    "\n",
    "union = set()\n",
    "for i, mat1 in enumerate(squares):\n",
    "    for j, mat2 in enumerate(squares):\n",
    "        if j > i:\n",
    "            intersection = mat1 & mat2\n",
    "            if len(intersection) > 0:\n",
    "                union = union | intersection\n",
    "\n",
    "print(len(union))"
   ]
  },
  {
   "cell_type": "code",
   "execution_count": 2,
   "metadata": {},
   "outputs": [
    {
     "name": "stdout",
     "output_type": "stream",
     "text": [
      "567\n"
     ]
    }
   ],
   "source": [
    "# ----- Part 2 -----\n",
    "\n",
    "for idnum, square in enumerate(squares, 1):\n",
    "    intersection = square & union\n",
    "    if len(intersection) == 0:\n",
    "        print(idnum)"
   ]
  }
 ],
 "metadata": {
  "kernelspec": {
   "display_name": "Python 3",
   "language": "python",
   "name": "python3"
  },
  "language_info": {
   "codemirror_mode": {
    "name": "ipython",
    "version": 3
   },
   "file_extension": ".py",
   "mimetype": "text/x-python",
   "name": "python",
   "nbconvert_exporter": "python",
   "pygments_lexer": "ipython3",
   "version": "3.6.7"
  }
 },
 "nbformat": 4,
 "nbformat_minor": 2
}
