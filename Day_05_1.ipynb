{
 "cells": [
  {
   "cell_type": "code",
   "execution_count": null,
   "metadata": {},
   "outputs": [],
   "source": [
    "with open('day_05_input.txt', 'r') as inputfile:\n",
    "    fabric = inputfile.readlines()\n",
    "\n",
    "code = fabric[0][:-1]\n",
    "print(len(code))"
   ]
  },
  {
   "cell_type": "code",
   "execution_count": null,
   "metadata": {},
   "outputs": [],
   "source": [
    "# ----- Part 1 -----\n",
    "\n",
    "finished = False\n",
    "while not finished:\n",
    "    for idx in range(len(code)):\n",
    "        try:\n",
    "            if (ord(code[idx]) == ord(code[idx+1])+32) or (ord(code[idx])+32 == ord(code[idx+1])):\n",
    "                temp = code[:idx] + code[idx+2:]\n",
    "                code = temp\n",
    "                break\n",
    "        except:\n",
    "            pass\n",
    "    finished = idx == len(code) - 1\n",
    "\n",
    "print(len(code))"
   ]
  },
  {
   "cell_type": "code",
   "execution_count": null,
   "metadata": {},
   "outputs": [],
   "source": [
    " ----- Part 2 -----\n",
    "\n",
    "import time\n",
    "\n",
    "with open('day_05_input.txt', 'r') as inputfile:\n",
    "    fabric = inputfile.readlines()\n",
    "\n",
    "for letter in string.ascii_uppercase:\n",
    "    starttime = time.time()\n",
    "    code = fabric[0][:-1]\n",
    "    \n",
    "    newcode = code.replace(letter, \"\")\n",
    "    code = newcode.replace(chr(ord(letter)+32), \"\")\n",
    "    \n",
    "    assert len(code) == (50000 - letters[letter] - letters[letter.upper()])\n",
    "    \n",
    "    finished = False\n",
    "    while not finished:\n",
    "        for idx in range(len(code)):\n",
    "            try:\n",
    "                if (ord(code[idx]) == ord(code[idx+1])+32) or (ord(code[idx])+32 == ord(code[idx+1])):\n",
    "                    temp = code[:idx] + code[idx+2:]\n",
    "                    code = temp\n",
    "                    break\n",
    "            except:\n",
    "                pass\n",
    "        finished = idx == len(code) - 1\n",
    "\n",
    "    print(f'Letter {letter} Length:{len(code)} {time.time()-starttime}')\n",
    "# 5524"
   ]
  },
  {
   "cell_type": "code",
   "execution_count": null,
   "metadata": {},
   "outputs": [],
   "source": []
  }
 ],
 "metadata": {
  "kernelspec": {
   "display_name": "Python 3",
   "language": "python",
   "name": "python3"
  },
  "language_info": {
   "codemirror_mode": {
    "name": "ipython",
    "version": 3
   },
   "file_extension": ".py",
   "mimetype": "text/x-python",
   "name": "python",
   "nbconvert_exporter": "python",
   "pygments_lexer": "ipython3",
   "version": "3.6.7"
  }
 },
 "nbformat": 4,
 "nbformat_minor": 2
}
