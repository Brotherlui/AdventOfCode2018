{
 "cells": [
  {
   "cell_type": "code",
   "execution_count": 1,
   "metadata": {},
   "outputs": [
    {
     "name": "stdout",
     "output_type": "stream",
     "text": [
      "Checksum: 249 * 20 = 4980\n"
     ]
    }
   ],
   "source": [
    "# ---- Part 1 ----\n",
    "import pandas as pd\n",
    "\n",
    "df = pd.read_table('day_02_input.txt', dtype='str', names=['sequences'])\n",
    "sequences = df.sequences.tolist()\n",
    "\n",
    "twos, threes = 0, 0\n",
    "for sequence in sequences:\n",
    "    count = {}\n",
    "    for letter in sequence:\n",
    "        try:\n",
    "            count[letter] += 1\n",
    "        except:\n",
    "            count[letter] = 1\n",
    "\n",
    "    count_twos, count_threes = 0, 0\n",
    "    for key, value in count.items():\n",
    "        if value == 2:\n",
    "            count_twos += 1\n",
    "        if value == 3:\n",
    "            count_threes += 1\n",
    "    \n",
    "    if count_twos > 0:\n",
    "        twos += 1\n",
    "    if count_threes > 0:\n",
    "        threes += 1\n",
    "    \n",
    "print(f'Checksum: {twos} * {threes} = {twos*threes}')"
   ]
  },
  {
   "cell_type": "code",
   "execution_count": 2,
   "metadata": {},
   "outputs": [
    {
     "name": "stdout",
     "output_type": "stream",
     "text": [
      "Checksum: 249 * 20 = 4980\n"
     ]
    }
   ],
   "source": [
    "# ---- Part 1 ----\n",
    "# without loop over items in dict\n",
    "\n",
    "import pandas as pd\n",
    "from collections import Counter\n",
    "\n",
    "df = pd.read_table('day_02_input.txt', dtype='str', names=['sequences'])\n",
    "sequences = df.sequences.tolist()\n",
    "\n",
    "twos, threes = 0, 0\n",
    "\n",
    "for sequence in sequences:\n",
    "    count = {}\n",
    "    for letter in sequence:\n",
    "        try:\n",
    "            count[letter] += 1\n",
    "        except:\n",
    "            count[letter] = 1\n",
    "    most = set(count.values())\n",
    "    if 2 in most:\n",
    "        twos += 1\n",
    "    if 3 in most:\n",
    "        threes += 1\n",
    "\n",
    "print(f'Checksum: {twos} * {threes} = {twos*threes}')"
   ]
  },
  {
   "cell_type": "code",
   "execution_count": 3,
   "metadata": {},
   "outputs": [
    {
     "name": "stdout",
     "output_type": "stream",
     "text": [
      "Checksum: 249 * 20 = 4980\n"
     ]
    }
   ],
   "source": [
    "# ---- Part 1 ----\n",
    "# more pythonic with collections.Counter()\n",
    "\n",
    "import pandas as pd\n",
    "from collections import Counter\n",
    "\n",
    "df = pd.read_table('day_02_input.txt', dtype='str', names=['sequences'])\n",
    "sequences = df.sequences.tolist()\n",
    "\n",
    "twos, threes = 0, 0\n",
    "for sequence in sequences:\n",
    "    most = set(j for i,j in Counter(sequence).most_common())\n",
    "    if 2 in most:\n",
    "        twos += 1\n",
    "    if 3 in most:\n",
    "        threes += 1\n",
    "\n",
    "print(f'Checksum: {twos} * {threes} = {twos*threes}')"
   ]
  },
  {
   "cell_type": "code",
   "execution_count": 4,
   "metadata": {},
   "outputs": [
    {
     "name": "stdout",
     "output_type": "stream",
     "text": [
      "qysdtrkloagnfozuwujmhrbvx\n"
     ]
    }
   ],
   "source": [
    "# ---- Part 2 ----\n",
    "\n",
    "import pandas as pd\n",
    "from difflib import SequenceMatcher, ndiff\n",
    "\n",
    "df = pd.read_table('day_02_input.txt', dtype='str', names=['sequences'])\n",
    "sequences = df.sequences.tolist()\n",
    "\n",
    "matcher = SequenceMatcher(None, '', '')\n",
    "for row, first_sequence in enumerate(sequences):\n",
    "    matcher.set_seq2(first_sequence)\n",
    "    for column, second_sequence in enumerate(sequences):\n",
    "        if column > row:\n",
    "            matcher.set_seq1(second_sequence)\n",
    "            if int(matcher.ratio() * len(first_sequence)) == len(first_sequence) - 1:\n",
    "                matching = [letter[-1] for letter in ndiff(first_sequence, second_sequence) if letter[0] not in '+-']\n",
    "                print(''.join(matching))"
   ]
  },
  {
   "cell_type": "code",
   "execution_count": null,
   "metadata": {},
   "outputs": [],
   "source": []
  }
 ],
 "metadata": {
  "kernelspec": {
   "display_name": "Python 3",
   "language": "python",
   "name": "python3"
  },
  "language_info": {
   "codemirror_mode": {
    "name": "ipython",
    "version": 3
   },
   "file_extension": ".py",
   "mimetype": "text/x-python",
   "name": "python",
   "nbconvert_exporter": "python",
   "pygments_lexer": "ipython3",
   "version": "3.6.7"
  }
 },
 "nbformat": 4,
 "nbformat_minor": 2
}
