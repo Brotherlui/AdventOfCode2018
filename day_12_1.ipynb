{
 "cells": [
  {
   "cell_type": "raw",
   "metadata": {},
   "source": [
    "--- Day 12: Subterranean Sustainability ---\n",
    "The year 518 is significantly more underground than your history books implied. Either that, or you've arrived in a vast cavern network under the North Pole.\n",
    "\n",
    "After exploring a little, you discover a long tunnel that contains a row of small pots as far as you can see to your left and right. A few of them contain plants - someone is trying to grow things in these geothermally-heated caves.\n",
    "\n",
    "The pots are numbered, with 0 in front of you. To the left, the pots are numbered -1, -2, -3, and so on; to the right, 1, 2, 3.... Your puzzle input contains a list of pots from 0 to the right and whether they do (#) or do not (.) currently contain a plant, the initial state. (No other pots currently contain plants.) For example, an initial state of #..##.... indicates that pots 0, 3, and 4 currently contain plants.\n",
    "\n",
    "Your puzzle input also contains some notes you find on a nearby table: someone has been trying to figure out how these plants spread to nearby pots. Based on the notes, for each generation of plants, a given pot has or does not have a plant based on whether that pot (and the two pots on either side of it) had a plant in the last generation. These are written as LLCRR => N, where L are pots to the left, C is the current pot being considered, R are the pots to the right, and N is whether the current pot will have a plant in the next generation. For example:\n",
    "\n",
    "A note like ..#.. => . means that a pot that contains a plant but with no plants within two pots of it will not have a plant in it during the next generation.\n",
    "A note like ##.## => . means that an empty pot with two plants on each side of it will remain empty in the next generation.\n",
    "A note like .##.# => # means that a pot has a plant in a given generation if, in the previous generation, there were plants in that pot, the one immediately to the left, and the one two pots to the right, but not in the ones immediately to the right and two to the left.\n",
    "It's not clear what these plants are for, but you're sure it's important, so you'd like to make sure the current configuration of plants is sustainable by determining what will happen after 20 generations.\n",
    "\n",
    "For example, given the following input:\n",
    "\n",
    "initial state: #..#.#..##......###...###\n",
    "\n",
    "...## => #\n",
    "..#.. => #\n",
    ".#... => #\n",
    ".#.#. => #\n",
    ".#.## => #\n",
    ".##.. => #\n",
    ".#### => #\n",
    "#.#.# => #\n",
    "#.### => #\n",
    "##.#. => #\n",
    "##.## => #\n",
    "###.. => #\n",
    "###.# => #\n",
    "####. => #\n",
    "For brevity, in this example, only the combinations which do produce a plant are listed. (Your input includes all possible combinations.) Then, the next 20 generations will look like this:\n",
    "\n",
    "                 1         2         3     \n",
    "       0         0         0         0     \n",
    " 0: ...#..#.#..##......###...###...........\n",
    " 1: ...#...#....#.....#..#..#..#...........\n",
    " 2: ...##..##...##....#..#..#..##..........\n",
    " 3: ..#.#...#..#.#....#..#..#...#..........\n",
    " 4: ...#.#..#...#.#...#..#..##..##.........\n",
    " 5: ....#...##...#.#..#..#...#...#.........\n",
    " 6: ....##.#.#....#...#..##..##..##........\n",
    " 7: ...#..###.#...##..#...#...#...#........\n",
    " 8: ...#....##.#.#.#..##..##..##..##.......\n",
    " 9: ...##..#..#####....#...#...#...#.......\n",
    "10: ..#.#..#...#.##....##..##..##..##......\n",
    "11: ...#...##...#.#...#.#...#...#...#......\n",
    "12: ...##.#.#....#.#...#.#..##..##..##.....\n",
    "13: ..#..###.#....#.#...#....#...#...#.....\n",
    "14: ..#....##.#....#.#..##...##..##..##....\n",
    "15: ..##..#..#.#....#....#..#.#...#...#....\n",
    "16: .#.#..#...#.#...##...#...#.#..##..##...\n",
    "17: ..#...##...#.#.#.#...##...#....#...#...\n",
    "18: ..##.#.#....#####.#.#.#...##...##..##..\n",
    "19: .#..###.#..#.#.#######.#.#.#..#.#...#..\n",
    "20: .#....##....#####...#######....#.#..##.\n",
    "The generation is shown along the left, where 0 is the initial state. The pot numbers are shown along the top, where 0 labels the center pot, negative-numbered pots extend to the left, and positive pots extend toward the right. Remember, the initial state begins at pot 0, which is not the leftmost pot used in this example.\n",
    "\n",
    "After one generation, only seven plants remain. The one in pot 0 matched the rule looking for ..#.., the one in pot 4 matched the rule looking for .#.#., pot 9 matched .##.., and so on.\n",
    "\n",
    "In this example, after 20 generations, the pots shown as # contain plants, the furthest left of which is pot -2, and the furthest right of which is pot 34. Adding up all the numbers of plant-containing pots after the 20th generation produces 325.\n",
    "\n",
    "After 20 generations, what is the sum of the numbers of all pots which contain a plant?"
   ]
  },
  {
   "cell_type": "code",
   "execution_count": 1,
   "metadata": {},
   "outputs": [
    {
     "name": "stdout",
     "output_type": "stream",
     "text": [
      "  20    9   3798 0\n"
     ]
    }
   ],
   "source": [
    "def calc(status):\n",
    "    total = 0\n",
    "    first = -10\n",
    "    last = 0\n",
    "    for index, pot in enumerate(status):\n",
    "        if pot == '#':\n",
    "            total += index + offset\n",
    "            if first == -10 and index > first:\n",
    "                first = index\n",
    "            last = index\n",
    "    return total, first, last\n",
    "\n",
    "\n",
    "with open('day_12_input.txt', 'r') as day12input:\n",
    "    state = '....' + day12input.readline().strip().replace('initial state: ', '') + '....'\n",
    "    _ = day12input.readline()\n",
    "    codes = [line.strip().replace(' => ', ',').split(',') for line in day12input]\n",
    "\n",
    "loop = 0\n",
    "start = 2\n",
    "\n",
    "rules = dict()\n",
    "for key, value in codes:\n",
    "    rules[key] = value\n",
    "\n",
    "offset = -4\n",
    "lastvalue = 0\n",
    "for loop in range(1, 21):\n",
    "    new_state = '..'\n",
    "    for index in range(len(state)-3):\n",
    "        check = state[index:index+5]\n",
    "        if check in rules:\n",
    "            new_state += rules[check]\n",
    "        else:\n",
    "            new_state += '.'\n",
    "    new_state += '..'\n",
    "    value, start, ende = calc(new_state)\n",
    "    lastvalue = value\n",
    "    state = new_state\n",
    "\n",
    "print(f'{loop:4} {start:4} {value:6} {value-lastvalue}')"
   ]
  },
  {
   "cell_type": "raw",
   "metadata": {},
   "source": [
    "Your puzzle answer was 3798"
   ]
  },
  {
   "cell_type": "raw",
   "metadata": {},
   "source": [
    "--- Part Two ---\n",
    "You realize that 20 generations aren't enough.\n",
    "After all, these plants will need to last another 1500 years\n",
    "to even reach your timeline, not to mention your future.\n",
    "\n",
    "After fifty billion (50000000000) generations,\n",
    "what is the sum of the numbers of all pots which contain a plant?"
   ]
  },
  {
   "cell_type": "code",
   "execution_count": 2,
   "metadata": {},
   "outputs": [
    {
     "name": "stdout",
     "output_type": "stream",
     "text": [
      " 130   88  12352 78\n",
      " 131   89  12430 78\n",
      " 132   90  12508 78\n",
      " 133   91  12586 78\n",
      " 134   92  12664 78\n",
      " 135   93  12742 78\n",
      " 136   94  12820 78\n",
      " 137   95  12898 78\n",
      " 138   96  12976 78\n",
      " 139   97  13054 78\n",
      " 140   98  13132 78\n"
     ]
    }
   ],
   "source": [
    "with open('day_12_input.txt', 'r') as day12input:\n",
    "    state = '....' + day12input.readline().strip().replace('initial state: ', '') + '....'\n",
    "    _ = day12input.readline()\n",
    "    codes = [line.strip().replace(' => ', ',').split(',') for line in day12input]\n",
    "\n",
    "loop = 0\n",
    "start = 2\n",
    "\n",
    "rules = dict()\n",
    "for key, value in codes:\n",
    "    rules[key] = value\n",
    "\n",
    "offset = -4\n",
    "lastvalue = 0\n",
    "for loop in range(1, 141):\n",
    "    new_state = '..'\n",
    "    for index in range(len(state)-3):\n",
    "        check = state[index:index+5]\n",
    "        if check in rules:\n",
    "            new_state += rules[check]\n",
    "        else:\n",
    "            new_state += '.'\n",
    "    new_state += '..'\n",
    "    value, start, ende = calc(new_state)\n",
    "    if loop > 129:\n",
    "        print(f'{loop:4} {start:4} {value:6} {value-lastvalue}')\n",
    "    lastvalue = value\n",
    "    state = new_state\n"
   ]
  },
  {
   "cell_type": "code",
   "execution_count": 3,
   "metadata": {},
   "outputs": [
    {
     "name": "stdout",
     "output_type": "stream",
     "text": [
      "3900000002212\n"
     ]
    }
   ],
   "source": [
    "# After loop 130 the difference per loop is always 78\n",
    "# so the solution is just math\n",
    "\n",
    "print(((50_000_000_000 - 130) * 78) + 12352)"
   ]
  },
  {
   "cell_type": "raw",
   "metadata": {},
   "source": [
    "Your puzzle answer was 3900000002212.\n",
    "\n",
    "Both parts of this puzzle are complete! They provide two gold stars: **"
   ]
  }
 ],
 "metadata": {
  "kernelspec": {
   "display_name": "Python 3",
   "language": "python",
   "name": "python3"
  },
  "language_info": {
   "codemirror_mode": {
    "name": "ipython",
    "version": 3
   },
   "file_extension": ".py",
   "mimetype": "text/x-python",
   "name": "python",
   "nbconvert_exporter": "python",
   "pygments_lexer": "ipython3",
   "version": "3.6.7"
  }
 },
 "nbformat": 4,
 "nbformat_minor": 2
}
