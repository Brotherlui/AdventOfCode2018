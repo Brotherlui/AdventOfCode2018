{
 "cells": [
  {
   "cell_type": "raw",
   "metadata": {},
   "source": [
    "--- Day 11: Chronal Charge ---\n",
    "\n",
    "You watch the Elves and their sleigh fade into the distance as they head toward the North Pole.\n",
    "Actually, you're the one fading. The falling sensation returns.\n",
    "\n",
    "The low fuel warning light is illuminated on your wrist-mounted device.\n",
    "Tapping it once causes it to project a hologram of the situation:\n",
    "a 300x300 grid of fuel cells and their current power levels, some negative.\n",
    "You're not sure what negative power means in the context of time travel, but it can't be good.\n",
    "\n",
    "Each fuel cell has a coordinate ranging from 1 to 300 in both the X (horizontal) and Y (vertical) direction.\n",
    "In X,Y notation, the top-left cell is 1,1, and the top-right cell is 300,1.\n",
    "\n",
    "The interface lets you select any 3x3 square of fuel cells. To increase your chances of getting to your destination,\n",
    "you decide to choose the 3x3 square with the largest total power.\n",
    "\n",
    "The power level in a given fuel cell can be found through the following process:\n",
    "\n",
    "Find the fuel cell's rack ID, which is its X coordinate plus 10.\n",
    "Begin with a power level of the rack ID times the Y coordinate.\n",
    "Increase the power level by the value of the grid serial number (your puzzle input).\n",
    "Set the power level to itself multiplied by the rack ID.\n",
    "Keep only the hundreds digit of the power level (so 12345 becomes 3; numbers with no hundreds digit become 0).\n",
    "Subtract 5 from the power level.\n",
    "For example, to find the power level of the fuel cell at 3,5 in a grid with serial number 8:\n",
    "\n",
    "The rack ID is 3 + 10 = 13.\n",
    "The power level starts at 13 * 5 = 65.\n",
    "Adding the serial number produces 65 + 8 = 73.\n",
    "Multiplying by the rack ID produces 73 * 13 = 949.\n",
    "The hundreds digit of 949 is 9.\n",
    "Subtracting 5 produces 9 - 5 = 4.\n",
    "So, the power level of this fuel cell is 4.\n",
    "\n",
    "Here are some more example power levels:\n",
    "\n",
    "Fuel cell at  122,79, grid serial number 57: power level -5.\n",
    "Fuel cell at 217,196, grid serial number 39: power level  0.\n",
    "Fuel cell at 101,153, grid serial number 71: power level  4.\n",
    "\n",
    "Your goal is to find the 3x3 square which has the largest total power.\n",
    "The square must be entirely within the 300x300 grid.\n",
    "Identify this square using the X,Y coordinate of its top-left fuel cell. For example:\n",
    "\n",
    "For grid serial number 18, the largest total 3x3 square has a top-left corner of 33,45\n",
    "(with a total power of 29); these fuel cells appear in the middle of this 5x5 region:\n",
    "\n",
    "-2  -4   4   4   4\n",
    "-4   4   4   4  -5\n",
    " 4   3   3   4  -4\n",
    " 1   1   2   4  -3\n",
    "-1   0   2  -5  -2\n",
    "For grid serial number 42, the largest 3x3 square's top-left is 21,61\n",
    "(with a total power of 30); they are in the middle of this region:\n",
    "\n",
    "-3   4   2   2   2\n",
    "-4   4   3   3   4\n",
    "-5   3   3   4  -4\n",
    " 4   3   3   4  -3\n",
    " 3   3   3  -5  -1\n",
    " \n",
    "What is the X,Y coordinate of the top-left fuel cell of the 3x3 square with the largest total power?\n",
    "Your puzzle input is 8561."
   ]
  },
  {
   "cell_type": "code",
   "execution_count": 1,
   "metadata": {},
   "outputs": [
    {
     "name": "stdout",
     "output_type": "stream",
     "text": [
      "Coordinate is (21, 37)  Total power = 30\n"
     ]
    }
   ],
   "source": [
    "import numpy as np\n",
    "\n",
    "grid = np.zeros((302,302), dtype='int')\n",
    "serial = 8561\n",
    "\n",
    "for x in range(1, 301):\n",
    "    for y in range(1, 301):\n",
    "        rackID = x + 10\n",
    "        power = rackID * y\n",
    "        power += serial\n",
    "        power *= rackID\n",
    "        power += 1000\n",
    "        power = int(str(power)[-3])\n",
    "        power -= 5\n",
    "        grid[x,y] = power\n",
    "\n",
    "total = np.zeros((301, 301), dtype='int')\n",
    "\n",
    "for x in range(1, 301-3):\n",
    "    for y in range(1, 301-3):\n",
    "        total[x, y] = np.sum(grid[x : x + 3, y : y + 3])\n",
    "\n",
    "x, y = np.unravel_index(total.argmax(), total.shape)\n",
    "print(f'Coordinate is {(x,y,)}  Total power = {total[x, y]}')"
   ]
  },
  {
   "cell_type": "raw",
   "metadata": {},
   "source": [
    "Your puzzle answer was 21,37."
   ]
  },
  {
   "cell_type": "raw",
   "metadata": {},
   "source": [
    "--- Part Two ---\n",
    "You discover a dial on the side of the device; it seems to let you select a square of any size,\n",
    "not just 3x3. Sizes from 1x1 to 300x300 are supported.\n",
    "\n",
    "Realizing this, you now must find the square of any size with the largest total power.\n",
    "Identify this square by including its size as a third parameter after the top-left coordinate:\n",
    "a 9x9 square with a top-left corner of 3,5 is identified as 3,5,9.\n",
    "\n",
    "For example:\n",
    "For grid serial number 18, the largest total square (with a total power of 113) is 16x16\n",
    "and has a top-left corner of 90,269, so its identifier is 90,269,16.\n",
    "For grid serial number 42, the largest total square (with a total power of 119) is 12x12\n",
    "and has a top-left corner of 232,251, so its identifier is 232,251,12.\n",
    "\n",
    "What is the X,Y,size identifier of the square with the largest total power?"
   ]
  },
  {
   "cell_type": "code",
   "execution_count": 2,
   "metadata": {},
   "outputs": [
    {
     "name": "stdout",
     "output_type": "stream",
     "text": [
      "(1, 15, 1) 4\n",
      "(21, 165, 2) 16\n",
      "(21, 37, 3) 30\n",
      "(19, 39, 4) 36\n",
      "(241, 113, 5) 64\n",
      "(240, 112, 6) 72\n",
      "(239, 111, 7) 106\n",
      "(239, 110, 8) 108\n",
      "(239, 110, 9) 135\n",
      "(236, 147, 10) 142\n",
      "(236, 146, 11) 145\n",
      "(236, 146, 12) 160\n",
      "done\n"
     ]
    }
   ],
   "source": [
    "total_max = -999999\n",
    "\n",
    "for size in range(1, 20):\n",
    "    total = np.zeros((301, 301), dtype='int')\n",
    "    for x in range(1, 301 - size):\n",
    "        for y in range(1, 301 - size):\n",
    "            total[x, y] = np.sum(grid[x:x+size, y:y+size])\n",
    "    x, y = np.unravel_index(total.argmax(), total.shape)\n",
    "\n",
    "    if total[x, y] > total_max:\n",
    "        total_max = total[x, y]\n",
    "        print((x,y,size), total_max)\n",
    "\n",
    "print('done')"
   ]
  },
  {
   "cell_type": "raw",
   "metadata": {},
   "source": [
    "Your puzzle answer was 236,146,12.\n",
    "\n",
    "Both parts of this puzzle are complete! They provide two gold stars: **"
   ]
  }
 ],
 "metadata": {
  "kernelspec": {
   "display_name": "Python 3",
   "language": "python",
   "name": "python3"
  },
  "language_info": {
   "codemirror_mode": {
    "name": "ipython",
    "version": 3
   },
   "file_extension": ".py",
   "mimetype": "text/x-python",
   "name": "python",
   "nbconvert_exporter": "python",
   "pygments_lexer": "ipython3",
   "version": "3.6.7"
  }
 },
 "nbformat": 4,
 "nbformat_minor": 2
}
