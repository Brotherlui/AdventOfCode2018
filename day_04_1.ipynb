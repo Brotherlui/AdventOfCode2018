{
 "cells": [
  {
   "cell_type": "code",
   "execution_count": 1,
   "metadata": {},
   "outputs": [],
   "source": [
    "import numpy as np\n",
    "import pandas as pd"
   ]
  },
  {
   "cell_type": "code",
   "execution_count": 2,
   "metadata": {},
   "outputs": [],
   "source": [
    "with open('day_04_input.txt', 'r') as inputfile:\n",
    "    data = inputfile.readlines()\n",
    "\n",
    "data2 = ['datim,action\\n']\n",
    "for line in data:\n",
    "    zeile = line.replace('[15', '20').replace(']', ':00.0,')\n",
    "    zeile = zeile.replace(' Guard #', '').replace(' begins shift', '')\n",
    "    zeile = zeile.replace(' falls asleep', '-1').replace(' wakes up', '+1')\n",
    "    zeile = zeile.replace(' ', 'T')\n",
    "    data2.append(zeile)\n",
    "\n",
    "with open('day4test.csv', 'w') as outfile:\n",
    "    for line in data2:\n",
    "        outfile.write(line)\n",
    "\n",
    "df = pd.read_csv('day4test.csv')\n",
    "df['datum'] = pd.to_datetime(df.datim)\n",
    "df = df.drop('datim', axis=1)\n",
    "df.sort_values('datum', inplace=True)\n",
    "df.reset_index(drop=True, inplace=True)\n",
    "\n",
    "df['bot'] = df.action.copy(deep=True)\n",
    "df.loc[df.bot == -1, 'bot'] = np.nan\n",
    "df.loc[df.bot == 1, 'bot'] = np.nan\n",
    "df.fillna(method='ffill', inplace=True)\n",
    "df.bot = df.bot.astype('int64')"
   ]
  },
  {
   "cell_type": "code",
   "execution_count": 3,
   "metadata": {},
   "outputs": [],
   "source": [
    "schedule = dict()\n",
    "for row, columns in df.iterrows():\n",
    "    if columns['action'] == columns['bot']:\n",
    "        bot_number = columns.bot\n",
    "        try:\n",
    "            _ = schedule[bot_number]['duration']\n",
    "        except:\n",
    "            schedule[bot_number] = {'duration': 0, 'minutes': {}}\n",
    "    elif columns['action'] == -1:\n",
    "        asleep = columns.datum\n",
    "    elif columns['action'] == 1:\n",
    "        awake = columns.datum\n",
    "        duration = awake.minute - asleep.minute\n",
    "        schedule[bot_number]['duration'] += duration\n",
    "        for minute in range(asleep.minute, awake.minute):\n",
    "            try:\n",
    "                schedule[bot_number]['minutes'][minute] += 1\n",
    "            except:\n",
    "                schedule[bot_number]['minutes'][minute] = 1"
   ]
  },
  {
   "cell_type": "code",
   "execution_count": 4,
   "metadata": {},
   "outputs": [
    {
     "name": "stdout",
     "output_type": "stream",
     "text": [
      "3203 457\n",
      "44 13\n",
      "140932\n"
     ]
    }
   ],
   "source": [
    "max_bot, max_duration = 0, 0\n",
    "for bot_number in schedule:\n",
    "    if schedule[bot_number]['duration'] > max_duration:\n",
    "        max_duration = schedule[bot_number]['duration']\n",
    "        max_bot = bot_number\n",
    "print(f\"{max_bot} {max_duration}\")\n",
    "\n",
    "max_minute, max_amount = 0, 0\n",
    "for minute, amount in schedule[max_bot]['minutes'].items():\n",
    "    if amount > max_amount:\n",
    "        max_amount = amount\n",
    "        max_minute = minute\n",
    "print(max_minute, max_amount)\n",
    "print(f\"{max_bot * max_minute}\")"
   ]
  },
  {
   "cell_type": "code",
   "execution_count": 5,
   "metadata": {},
   "outputs": [
    {
     "name": "stdout",
     "output_type": "stream",
     "text": [
      "1601 32 16\n",
      "51232\n"
     ]
    }
   ],
   "source": [
    "max_bot, max_minute, max_amount = 0, 0, 0\n",
    "for bot_number in schedule:\n",
    "    for minute, amount in schedule[bot_number]['minutes'].items():\n",
    "        if amount > max_amount:\n",
    "            max_amount = amount\n",
    "            max_minute = minute\n",
    "            max_bot = bot_number\n",
    "print(max_bot, max_minute, max_amount)\n",
    "print(f\"{max_bot * max_minute}\")"
   ]
  },
  {
   "cell_type": "code",
   "execution_count": null,
   "metadata": {},
   "outputs": [],
   "source": []
  }
 ],
 "metadata": {
  "kernelspec": {
   "display_name": "Python 3",
   "language": "python",
   "name": "python3"
  },
  "language_info": {
   "codemirror_mode": {
    "name": "ipython",
    "version": 3
   },
   "file_extension": ".py",
   "mimetype": "text/x-python",
   "name": "python",
   "nbconvert_exporter": "python",
   "pygments_lexer": "ipython3",
   "version": "3.6.7"
  }
 },
 "nbformat": 4,
 "nbformat_minor": 2
}
